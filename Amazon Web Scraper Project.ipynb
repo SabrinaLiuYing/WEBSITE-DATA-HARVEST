{
 "cells": [
  {
   "cell_type": "code",
   "execution_count": 9,
   "id": "4d284c00",
   "metadata": {},
   "outputs": [],
   "source": [
    "# import libraries \n",
    "\n",
    "from bs4 import BeautifulSoup\n",
    "import requests\n",
    "import time\n",
    "import datetime\n",
    "import smtplib\n",
    "import csv \n",
    "import pandas as pd"
   ]
  },
  {
   "cell_type": "code",
   "execution_count": 10,
   "id": "39df8df1",
   "metadata": {},
   "outputs": [],
   "source": [
    "# Connect to Website and pull in data\n",
    "\n",
    "URL =\"https://www.amazon.com/Milacolato-Sterling-Matching-Engagement-Adjustable/dp/B0B58Z8PBH/ref=sr_1_15?crid=18509H1MSGTVB&keywords=couple&qid=1700187791&sprefix=couple%2B%2Caps%2C342&sr=8-15&th=1&psc=1\"\n",
    "\n",
    "headers = {\"User-Agent\": \"Mozilla/5.0 (Windows NT 10.0; Win64; x64) AppleWebKit/537.36 (KHTML, like Gecko) Chrome/78.0.3904.108 Safari/537.36\", \"Accept-Encoding\":\"gzip, deflate\", \"Accept\":\"text/html,application/xhtml+xml,application/xml;q=0.9,*/*;q=0.8\", \"DNT\":\"1\",\"Connection\":\"close\", \"Upgrade-Insecure-Requests\":\"1\"}\n",
    "\n",
    "page = requests.get(URL, headers=headers)\n",
    "\n",
    "soup1 = BeautifulSoup(page.content, \"html.parser\")\n",
    "\n",
    "soup2 = BeautifulSoup(soup1.prettify(), \"html.parser\")\n",
    "\n"
   ]
  },
  {
   "cell_type": "code",
   "execution_count": 13,
   "id": "7e120c93",
   "metadata": {},
   "outputs": [],
   "source": [
    "title = soup2.find(id='productTitle').get_text()\n",
    "price = soup2.find(class_=\"a-section a-spacing-none aok-align-center\").get_text(' ',strip=True)\n",
    "list_price = soup2.find(class_=\"a-section a-spacing-small aok-align-center\").get_text(' ',strip=True)\n",
    "delivery = soup2.find(id=\"mir-layout-DELIVERY_BLOCK-slot-PRIMARY_DELIVERY_MESSAGE_LARGE\").get_text(' ',strip=True)"
   ]
  },
  {
   "cell_type": "code",
   "execution_count": 5,
   "id": "28488e47",
   "metadata": {},
   "outputs": [
    {
     "name": "stdout",
     "output_type": "stream",
     "text": [
      "2023-11-17\n"
     ]
    }
   ],
   "source": [
    "today = datetime.date.today()\n",
    "\n",
    "print(today)"
   ]
  },
  {
   "cell_type": "code",
   "execution_count": 14,
   "id": "a9f5a040",
   "metadata": {},
   "outputs": [
    {
     "data": {
      "text/html": [
       "<div>\n",
       "<style scoped>\n",
       "    .dataframe tbody tr th:only-of-type {\n",
       "        vertical-align: middle;\n",
       "    }\n",
       "\n",
       "    .dataframe tbody tr th {\n",
       "        vertical-align: top;\n",
       "    }\n",
       "\n",
       "    .dataframe thead th {\n",
       "        text-align: right;\n",
       "    }\n",
       "</style>\n",
       "<table border=\"1\" class=\"dataframe\">\n",
       "  <thead>\n",
       "    <tr style=\"text-align: right;\">\n",
       "      <th></th>\n",
       "      <th>Title</th>\n",
       "      <th>Price</th>\n",
       "      <th>List_price</th>\n",
       "      <th>Delivery</th>\n",
       "      <th>Date</th>\n",
       "    </tr>\n",
       "  </thead>\n",
       "  <tbody>\n",
       "    <tr>\n",
       "      <th>0</th>\n",
       "      <td>\\n                   MILACOLATO Matching Rings...</td>\n",
       "      <td>-20% $19.95 $ 19 . 95</td>\n",
       "      <td>List Price: $24.99 $24.99 The List Price is th...</td>\n",
       "      <td>FREE delivery Tuesday, November 28 to Hong Kon...</td>\n",
       "      <td>2023-11-17</td>\n",
       "    </tr>\n",
       "  </tbody>\n",
       "</table>\n",
       "</div>"
      ],
      "text/plain": [
       "                                               Title                  Price  \\\n",
       "0  \\n                   MILACOLATO Matching Rings...  -20% $19.95 $ 19 . 95   \n",
       "\n",
       "                                          List_price  \\\n",
       "0  List Price: $24.99 $24.99 The List Price is th...   \n",
       "\n",
       "                                            Delivery        Date  \n",
       "0  FREE delivery Tuesday, November 28 to Hong Kon...  2023-11-17  "
      ]
     },
     "execution_count": 14,
     "metadata": {},
     "output_type": "execute_result"
    }
   ],
   "source": [
    "header = ['Title', 'Price','List_price','Delivery','Date']\n",
    "data = [title, price,list_price,delivery, today]\n",
    "\n",
    "\n",
    "df = pd.DataFrame(columns = header)\n",
    "df.loc[len(df)]= data\n",
    "df\n",
    " "
   ]
  },
  {
   "cell_type": "code",
   "execution_count": 15,
   "id": "77088fec",
   "metadata": {},
   "outputs": [
    {
     "name": "stdout",
     "output_type": "stream",
     "text": [
      "                                               Title                  Price  \\\n",
      "0  \\n                   MILACOLATO Matching Rings...  -20% $19.95 $ 19 . 95   \n",
      "1  \\n                   MILACOLATO Matching Rings...  -20% $19.95 $ 19 . 95   \n",
      "2  \\n                   MILACOLATO Matching Rings...  -20% $19.95 $ 19 . 95   \n",
      "3  \\n                   MILACOLATO Matching Rings...  -20% $19.95 $ 19 . 95   \n",
      "4  \\n                   MILACOLATO Matching Rings...  -20% $19.95 $ 19 . 95   \n",
      "5  \\n                   MILACOLATO Matching Rings...  -20% $19.95 $ 19 . 95   \n",
      "6  \\n                   MILACOLATO Matching Rings...  -20% $19.95 $ 19 . 95   \n",
      "7  \\n                   MILACOLATO Matching Rings...  -20% $19.95 $ 19 . 95   \n",
      "8  \\n                   MILACOLATO Matching Rings...  -20% $19.95 $ 19 . 95   \n",
      "\n",
      "                                          List_price  \\\n",
      "0  List Price: $24.99 $24.99 The List Price is th...   \n",
      "1  List Price: $24.99 $24.99 The List Price is th...   \n",
      "2  List Price: $24.99 $24.99 The List Price is th...   \n",
      "3  List Price: $24.99 $24.99 The List Price is th...   \n",
      "4  List Price: $24.99 $24.99 The List Price is th...   \n",
      "5  List Price: $24.99 $24.99 The List Price is th...   \n",
      "6  List Price: $24.99 $24.99 The List Price is th...   \n",
      "7  List Price: $24.99 $24.99 The List Price is th...   \n",
      "8  List Price: $24.99 $24.99 The List Price is th...   \n",
      "\n",
      "                                            Delivery        Date  \n",
      "0  FREE delivery Tuesday, November 28 to Hong Kon...  2023-11-17  \n",
      "1  FREE delivery Tuesday, November 28 to Hong Kon...  2023-11-17  \n",
      "2  FREE delivery Tuesday, November 28 to Hong Kon...  2023-11-17  \n",
      "3  FREE delivery Tuesday, November 28 to Hong Kon...  2023-11-17  \n",
      "4  FREE delivery Tuesday, November 28 to Hong Kon...  2023-11-17  \n",
      "5  FREE delivery Tuesday, November 28 to Hong Kon...  2023-11-17  \n",
      "6  FREE delivery Tuesday, November 28 to Hong Kon...  2023-11-17  \n",
      "7  FREE delivery Tuesday, November 28 to Hong Kon...  2023-11-17  \n",
      "8  FREE delivery Tuesday, November 28 to Hong Kon...  2023-11-17  \n"
     ]
    }
   ],
   "source": [
    "with open('AmazonWebScraperDataset.csv', 'a+', newline='', encoding='UTF8') as f:\n",
    "        writer = csv.writer(f)\n",
    "        writer.writerow(data)\n",
    "        \n",
    "df1 = pd.read_csv(r'C:\\Users\\Administrator\\AmazonWebScraperDataset.csv')\n",
    "\n",
    "print(df1)"
   ]
  },
  {
   "cell_type": "markdown",
   "id": "f69e3dcf",
   "metadata": {},
   "source": [
    "#Combine all of the above code into one function\n",
    "\n",
    "\n",
    "def check_price():\n",
    "    URL = 'https://www.amazon.com/Funny-Data-Systems-Business-Analyst/dp/B07FNW9FGJ/ref=sr_1_3?dchild=1&keywords=data%2Banalyst%2Btshirt&qid=1626655184&sr=8-3&customId=B0752XJYNL&th=1'\n",
    "\n",
    "    headers = {\"User-Agent\": \"Mozilla/5.0 (Windows NT 10.0; Win64; x64) AppleWebKit/537.36 (KHTML, like Gecko) Chrome/78.0.3904.108 Safari/537.36\", \"Accept-Encoding\":\"gzip, deflate\", \"Accept\":\"text/html,application/xhtml+xml,application/xml;q=0.9,*/*;q=0.8\", \"DNT\":\"1\",\"Connection\":\"close\", \"Upgrade-Insecure-Requests\":\"1\"}\n",
    "\n",
    "    page = requests.get(URL, headers=headers)\n",
    "\n",
    "    soup1 = BeautifulSoup(page.content, \"html.parser\")\n",
    "\n",
    "    soup2 = BeautifulSoup(soup1.prettify(), \"html.parser\")\n",
    "\n",
    "    title = soup2.find(id='productTitle').get_text()\n",
    "    price = soup2.find(class_=\"a-section a-spacing-none aok-align-center\").get_text(' ',strip=True)\n",
    "    list_price = soup2.find(class_=\"a-section a-spacing-small aok-align-center\").get_text(' ',strip=True)\n",
    "    delivery = soup2.find(id=\"mir-layout-DELIVERY_BLOCK-slot-PRIMARY_DELIVERY_MESSAGE_LARGE\").get_text(' ',strip=True)\n",
    "    import datetime\n",
    "\n",
    "    today = datetime.date.today()\n",
    "    \n",
    "    import csv \n",
    "\n",
    "    header = ['Title', 'Price','List_price','Delivery','Date']\n",
    "data = [title, price,list_price,delivery, today]\n",
    "\n",
    "\n",
    "    with open('AmazonWebScraperDataset.csv', 'a+', newline='', encoding='UTF8') as f:\n",
    "        writer = csv.writer(f)\n",
    "        writer.writerow(data)\n",
    " \n",
    "\n",
    "\n",
    "\n",
    "while(True):\n",
    "    check_price()\n",
    "    time.sleep(86400)"
   ]
  },
  {
   "cell_type": "code",
   "execution_count": null,
   "id": "70693f99",
   "metadata": {},
   "outputs": [],
   "source": []
  },
  {
   "cell_type": "code",
   "execution_count": null,
   "id": "3a963a97",
   "metadata": {},
   "outputs": [],
   "source": []
  },
  {
   "cell_type": "code",
   "execution_count": null,
   "id": "550b1241",
   "metadata": {},
   "outputs": [],
   "source": []
  },
  {
   "cell_type": "code",
   "execution_count": null,
   "id": "12e4890f",
   "metadata": {},
   "outputs": [],
   "source": []
  }
 ],
 "metadata": {
  "kernelspec": {
   "display_name": "Python 3 (ipykernel)",
   "language": "python",
   "name": "python3"
  },
  "language_info": {
   "codemirror_mode": {
    "name": "ipython",
    "version": 3
   },
   "file_extension": ".py",
   "mimetype": "text/x-python",
   "name": "python",
   "nbconvert_exporter": "python",
   "pygments_lexer": "ipython3",
   "version": "3.11.5"
  }
 },
 "nbformat": 4,
 "nbformat_minor": 5
}
